{
 "cells": [
  {
   "cell_type": "code",
   "execution_count": 1,
   "metadata": {},
   "outputs": [],
   "source": [
    "%load_ext autoreload\n",
    "%matplotlib inline"
   ]
  },
  {
   "cell_type": "code",
   "execution_count": 2,
   "metadata": {},
   "outputs": [],
   "source": [
    "%autoreload 2\n",
    "\n",
    "from IPython import display\n",
    "\n",
    "from utils import Logger\n",
    "\n",
    "import torch\n",
    "from torch import nn, optim\n",
    "from torch.autograd.variable import Variable\n",
    "from torchvision import transforms, datasets"
   ]
  },
  {
   "cell_type": "code",
   "execution_count": 3,
   "metadata": {},
   "outputs": [],
   "source": [
    "DATA_FOLDER = './torch1_data/VGAN/MNIST'"
   ]
  },
  {
   "cell_type": "markdown",
   "metadata": {},
   "source": [
    "## Load Data"
   ]
  },
  {
   "cell_type": "code",
   "execution_count": 4,
   "metadata": {},
   "outputs": [],
   "source": [
    "def mnist_data():\n",
    "    compose = transforms.Compose([transforms.ToTensor(), transforms.Normalize((0.5,), (0.5,))])\n",
    "    out_dir = '{}/dataset'.format(DATA_FOLDER)\n",
    "    return datasets.FashionMNIST(root=out_dir, train=True, transform=compose, download=True)"
   ]
  },
  {
   "cell_type": "code",
   "execution_count": 5,
   "metadata": {},
   "outputs": [
    {
     "name": "stderr",
     "output_type": "stream",
     "text": [
      "\r",
      "0it [00:00, ?it/s]"
     ]
    },
    {
     "name": "stdout",
     "output_type": "stream",
     "text": [
      "Downloading http://fashion-mnist.s3-website.eu-central-1.amazonaws.com/train-images-idx3-ubyte.gz to ./torch1_data/VGAN/MNIST/dataset/FashionMNIST/raw/train-images-idx3-ubyte.gz\n"
     ]
    },
    {
     "name": "stderr",
     "output_type": "stream",
     "text": [
      "100%|█████████▉| 26402816/26421880 [00:59<00:00, 465811.15it/s]"
     ]
    },
    {
     "name": "stdout",
     "output_type": "stream",
     "text": [
      "Extracting ./torch1_data/VGAN/MNIST/dataset/FashionMNIST/raw/train-images-idx3-ubyte.gz to ./torch1_data/VGAN/MNIST/dataset/FashionMNIST/raw\n"
     ]
    },
    {
     "name": "stderr",
     "output_type": "stream",
     "text": [
      "\n",
      "0it [00:00, ?it/s]\u001b[A"
     ]
    },
    {
     "name": "stdout",
     "output_type": "stream",
     "text": [
      "Downloading http://fashion-mnist.s3-website.eu-central-1.amazonaws.com/train-labels-idx1-ubyte.gz to ./torch1_data/VGAN/MNIST/dataset/FashionMNIST/raw/train-labels-idx1-ubyte.gz\n"
     ]
    },
    {
     "name": "stderr",
     "output_type": "stream",
     "text": [
      "\n",
      "32768it [00:00, 59148.46it/s]            \u001b[A\n",
      "\n",
      "0it [00:00, ?it/s]\u001b[A"
     ]
    },
    {
     "name": "stdout",
     "output_type": "stream",
     "text": [
      "Extracting ./torch1_data/VGAN/MNIST/dataset/FashionMNIST/raw/train-labels-idx1-ubyte.gz to ./torch1_data/VGAN/MNIST/dataset/FashionMNIST/raw\n",
      "Downloading http://fashion-mnist.s3-website.eu-central-1.amazonaws.com/t10k-images-idx3-ubyte.gz to ./torch1_data/VGAN/MNIST/dataset/FashionMNIST/raw/t10k-images-idx3-ubyte.gz\n"
     ]
    },
    {
     "name": "stderr",
     "output_type": "stream",
     "text": [
      "\n",
      "  0%|          | 0/4422102 [00:05<?, ?it/s]\u001b[A\n",
      "  1%|▏         | 65536/4422102 [00:05<00:07, 545474.93it/s]\u001b[A\n",
      "  3%|▎         | 122880/4422102 [00:05<00:08, 517815.70it/s]\u001b[A\n",
      "  4%|▍         | 172032/4422102 [00:05<00:08, 491453.29it/s]\u001b[A\n",
      "  5%|▌         | 221184/4422102 [00:05<00:08, 482502.40it/s]\u001b[A\n",
      "  6%|▋         | 278528/4422102 [00:05<00:08, 474975.52it/s]\u001b[A\n",
      "  8%|▊         | 344064/4422102 [00:06<00:08, 487641.41it/s]\u001b[A\n",
      "  9%|▉         | 401408/4422102 [00:06<00:09, 444115.77it/s]\u001b[A\n",
      " 11%|█         | 466944/4422102 [00:06<00:08, 467115.27it/s]\u001b[A\n",
      " 12%|█▏        | 524288/4422102 [00:06<00:08, 478103.68it/s]\u001b[A\n",
      " 13%|█▎        | 573440/4422102 [00:06<00:08, 474221.79it/s]\u001b[A\n",
      " 14%|█▍        | 630784/4422102 [00:06<00:08, 468156.80it/s]\u001b[A\n",
      " 16%|█▌        | 688128/4422102 [00:06<00:07, 466857.67it/s]\u001b[A\n",
      " 17%|█▋        | 745472/4422102 [00:06<00:07, 464875.10it/s]\u001b[A\n",
      " 18%|█▊        | 811008/4422102 [00:07<00:07, 479096.23it/s]\u001b[A\n",
      " 20%|█▉        | 868352/4422102 [00:07<00:07, 474308.34it/s]\u001b[A\n",
      " 21%|██        | 925696/4422102 [00:07<00:07, 469529.30it/s]\u001b[A\n",
      " 22%|██▏       | 983040/4422102 [00:07<00:07, 466218.91it/s]\u001b[A\n",
      " 24%|██▎       | 1040384/4422102 [00:07<00:07, 464092.02it/s]\u001b[A\n",
      " 25%|██▍       | 1089536/4422102 [00:07<00:07, 451188.55it/s]\u001b[A\n",
      " 26%|██▌       | 1138688/4422102 [00:07<00:07, 460154.01it/s]\u001b[A\n",
      " 27%|██▋       | 1196032/4422102 [00:07<00:07, 459847.74it/s]\u001b[A\n",
      " 28%|██▊       | 1253376/4422102 [00:08<00:06, 470171.98it/s]\u001b[A\n",
      " 29%|██▉       | 1302528/4422102 [00:08<00:06, 471206.71it/s]\u001b[A\n",
      " 31%|███       | 1359872/4422102 [00:08<00:06, 467403.41it/s]\u001b[A\n",
      " 32%|███▏      | 1417216/4422102 [00:08<00:06, 464679.90it/s]\u001b[A\n",
      " 33%|███▎      | 1474560/4422102 [00:08<00:06, 463729.42it/s]\u001b[A\n",
      " 35%|███▍      | 1531904/4422102 [00:08<00:06, 462609.75it/s]\u001b[A\n",
      " 36%|███▌      | 1589248/4422102 [00:08<00:06, 467917.58it/s]\u001b[A\n",
      " 37%|███▋      | 1638400/4422102 [00:08<00:06, 456916.74it/s]\u001b[A\n",
      " 38%|███▊      | 1687552/4422102 [00:09<00:06, 452950.29it/s]\u001b[A\n",
      " 39%|███▉      | 1744896/4422102 [00:09<00:05, 454486.66it/s]\u001b[A\n",
      " 41%|████      | 1810432/4422102 [00:09<00:05, 471597.38it/s]\u001b[A\n",
      " 42%|████▏     | 1867776/4422102 [00:09<00:05, 466941.61it/s]\u001b[A\n",
      " 44%|████▎     | 1925120/4422102 [00:09<00:05, 466890.65it/s]\u001b[A\n",
      " 45%|████▍     | 1982464/4422102 [00:09<00:05, 462382.46it/s]\u001b[A\n",
      " 46%|████▌     | 2039808/4422102 [00:09<00:05, 463936.62it/s]\u001b[A\n",
      " 47%|████▋     | 2097152/4422102 [00:09<00:05, 462411.38it/s]\u001b[A\n",
      "26427392it [01:10, 465811.15it/s]                              A\n",
      " 50%|████▉     | 2203648/4422102 [00:10<00:04, 456309.80it/s]\u001b[A\n",
      " 51%|█████     | 2260992/4422102 [00:10<00:04, 475974.80it/s]\u001b[A\n",
      " 52%|█████▏    | 2318336/4422102 [00:10<00:04, 470115.36it/s]\u001b[A\n",
      " 54%|█████▎    | 2375680/4422102 [00:10<00:04, 467445.41it/s]\u001b[A\n",
      " 55%|█████▌    | 2433024/4422102 [00:10<00:04, 465223.74it/s]\u001b[A\n",
      " 56%|█████▌    | 2482176/4422102 [00:10<00:04, 470650.97it/s]\u001b[A\n",
      " 57%|█████▋    | 2531328/4422102 [00:10<00:04, 462497.69it/s]\u001b[A\n",
      " 58%|█████▊    | 2580480/4422102 [00:10<00:03, 469540.69it/s]\u001b[A\n",
      " 60%|█████▉    | 2637824/4422102 [00:11<00:03, 466846.57it/s]\u001b[A\n",
      " 61%|██████    | 2695168/4422102 [00:11<00:03, 465326.88it/s]\u001b[A\n",
      " 62%|██████▏   | 2760704/4422102 [00:11<00:03, 480493.27it/s]\u001b[A\n",
      " 64%|██████▎   | 2818048/4422102 [00:11<00:03, 473486.98it/s]\u001b[A\n",
      " 65%|██████▌   | 2875392/4422102 [00:11<00:03, 469324.94it/s]\u001b[A\n",
      " 66%|██████▋   | 2932736/4422102 [00:11<00:03, 465824.38it/s]\u001b[A\n",
      " 67%|██████▋   | 2981888/4422102 [00:11<00:03, 454577.17it/s]\u001b[A\n",
      " 69%|██████▊   | 3031040/4422102 [00:11<00:03, 460850.99it/s]\u001b[A\n",
      " 70%|██████▉   | 3088384/4422102 [00:12<00:02, 472920.12it/s]\u001b[A\n",
      " 71%|███████   | 3137536/4422102 [00:12<00:02, 469730.01it/s]\u001b[A\n",
      " 72%|███████▏  | 3194880/4422102 [00:12<00:02, 466136.97it/s]\u001b[A\n",
      " 74%|███████▎  | 3252224/4422102 [00:12<00:02, 465883.37it/s]\u001b[A\n",
      " 75%|███████▍  | 3301376/4422102 [00:12<00:02, 448230.45it/s]\u001b[A\n",
      " 76%|███████▌  | 3366912/4422102 [00:12<00:02, 462886.07it/s]\u001b[A\n",
      " 78%|███████▊  | 3432448/4422102 [00:12<00:02, 455374.20it/s]\u001b[A\n",
      " 79%|███████▉  | 3489792/4422102 [00:12<00:01, 484974.73it/s]\u001b[A\n",
      " 80%|████████  | 3547136/4422102 [00:13<00:01, 437847.17it/s]\u001b[A\n",
      " 81%|████████▏ | 3596288/4422102 [00:13<00:01, 437595.02it/s]\u001b[A\n",
      " 83%|████████▎ | 3653632/4422102 [00:13<00:01, 450839.63it/s]\u001b[A\n",
      " 84%|████████▍ | 3710976/4422102 [00:13<00:01, 470821.69it/s]\u001b[A\n",
      " 85%|████████▌ | 3768320/4422102 [00:13<00:01, 467877.49it/s]\u001b[A\n",
      " 87%|████████▋ | 3825664/4422102 [00:13<00:01, 464925.56it/s]\u001b[A\n",
      " 88%|████████▊ | 3891200/4422102 [00:13<00:01, 480949.07it/s]\u001b[A\n",
      " 89%|████████▉ | 3948544/4422102 [00:13<00:00, 474155.11it/s]\u001b[A\n",
      " 91%|█████████ | 4005888/4422102 [00:13<00:00, 469533.32it/s]\u001b[A\n",
      " 92%|█████████▏| 4063232/4422102 [00:14<00:00, 433130.63it/s]\u001b[A\n",
      " 93%|█████████▎| 4120576/4422102 [00:14<00:00, 443403.79it/s]\u001b[A\n",
      " 94%|█████████▍| 4169728/4422102 [00:14<00:00, 454278.78it/s]\u001b[A\n",
      " 95%|█████████▌| 4218880/4422102 [00:14<00:00, 464655.41it/s]\u001b[A\n",
      " 97%|█████████▋| 4268032/4422102 [00:14<00:00, 457174.98it/s]\u001b[A\n",
      " 98%|█████████▊| 4333568/4422102 [00:14<00:00, 471353.90it/s]\u001b[A\n",
      " 99%|█████████▉| 4390912/4422102 [00:14<00:00, 470875.49it/s]\u001b[A\n",
      "\n",
      "0it [00:00, ?it/s]\u001b[A\u001b[A"
     ]
    },
    {
     "name": "stdout",
     "output_type": "stream",
     "text": [
      "Extracting ./torch1_data/VGAN/MNIST/dataset/FashionMNIST/raw/t10k-images-idx3-ubyte.gz to ./torch1_data/VGAN/MNIST/dataset/FashionMNIST/raw\n",
      "Downloading http://fashion-mnist.s3-website.eu-central-1.amazonaws.com/t10k-labels-idx1-ubyte.gz to ./torch1_data/VGAN/MNIST/dataset/FashionMNIST/raw/t10k-labels-idx1-ubyte.gz\n"
     ]
    },
    {
     "name": "stderr",
     "output_type": "stream",
     "text": [
      "\n",
      "\n",
      "8192it [00:00, 19897.29it/s]            \u001b[A\u001b[A\n"
     ]
    },
    {
     "name": "stdout",
     "output_type": "stream",
     "text": [
      "Extracting ./torch1_data/VGAN/MNIST/dataset/FashionMNIST/raw/t10k-labels-idx1-ubyte.gz to ./torch1_data/VGAN/MNIST/dataset/FashionMNIST/raw\n",
      "Processing...\n",
      "Done!\n"
     ]
    }
   ],
   "source": [
    "# Load data\n",
    "data = mnist_data()\n",
    "# Create loader with data, so that we can iterate over it\n",
    "data_loader = torch.utils.data.DataLoader(data, batch_size=100, shuffle=True)\n",
    "# Num batches\n",
    "num_batches = len(data_loader)"
   ]
  },
  {
   "cell_type": "markdown",
   "metadata": {},
   "source": [
    "## Networks"
   ]
  },
  {
   "cell_type": "code",
   "execution_count": 6,
   "metadata": {},
   "outputs": [],
   "source": [
    "class DiscriminatorNet(torch.nn.Module):\n",
    "    \"\"\"\n",
    "    A three hidden-layer discriminative neural network\n",
    "    \"\"\"\n",
    "    def __init__(self):\n",
    "        super(DiscriminatorNet, self).__init__()\n",
    "        n_features = 784\n",
    "        n_out = 1\n",
    "        \n",
    "        self.hidden0 = nn.Sequential( \n",
    "            nn.Linear(n_features, 1024),\n",
    "            nn.LeakyReLU(0.2),\n",
    "            nn.Dropout(0.3)\n",
    "        )\n",
    "        self.hidden1 = nn.Sequential(\n",
    "            nn.Linear(1024, 512),\n",
    "            nn.LeakyReLU(0.2),\n",
    "            nn.Dropout(0.3)\n",
    "        )\n",
    "        self.hidden2 = nn.Sequential(\n",
    "            nn.Linear(512, 256),\n",
    "            nn.LeakyReLU(0.2),\n",
    "            nn.Dropout(0.3)\n",
    "        )\n",
    "        self.out = nn.Sequential(\n",
    "            torch.nn.Linear(256, n_out),\n",
    "            torch.nn.Sigmoid()\n",
    "        )\n",
    "\n",
    "    def forward(self, x):\n",
    "        x = self.hidden0(x)\n",
    "        x = self.hidden1(x)\n",
    "        x = self.hidden2(x)\n",
    "        x = self.out(x)\n",
    "        return x\n",
    "    \n",
    "def images_to_vectors(images):\n",
    "    return images.view(images.size(0), 784)\n",
    "\n",
    "def vectors_to_images(vectors):\n",
    "    return vectors.view(vectors.size(0), 1, 28, 28)"
   ]
  },
  {
   "cell_type": "code",
   "execution_count": 7,
   "metadata": {},
   "outputs": [],
   "source": [
    "class GeneratorNet(torch.nn.Module):\n",
    "    \"\"\"\n",
    "    A three hidden-layer generative neural network\n",
    "    \"\"\"\n",
    "    def __init__(self):\n",
    "        super(GeneratorNet, self).__init__()\n",
    "        n_features = 100\n",
    "        n_out = 784\n",
    "        \n",
    "        self.hidden0 = nn.Sequential(\n",
    "            nn.Linear(n_features, 256),\n",
    "            nn.LeakyReLU(0.2)\n",
    "        )\n",
    "        self.hidden1 = nn.Sequential(            \n",
    "            nn.Linear(256, 512),\n",
    "            nn.LeakyReLU(0.2)\n",
    "        )\n",
    "        self.hidden2 = nn.Sequential(\n",
    "            nn.Linear(512, 1024),\n",
    "            nn.LeakyReLU(0.2)\n",
    "        )\n",
    "        \n",
    "        self.out = nn.Sequential(\n",
    "            nn.Linear(1024, n_out),\n",
    "            nn.Tanh()\n",
    "        )\n",
    "\n",
    "    def forward(self, x):\n",
    "        x = self.hidden0(x)\n",
    "        x = self.hidden1(x)\n",
    "        x = self.hidden2(x)\n",
    "        x = self.out(x)\n",
    "        return x\n",
    "    \n",
    "# Noise\n",
    "def noise(size):\n",
    "    n = Variable(torch.randn(size, 100))\n",
    "    if torch.cuda.is_available(): return n.cuda() \n",
    "    return n"
   ]
  },
  {
   "cell_type": "code",
   "execution_count": 8,
   "metadata": {
    "scrolled": false
   },
   "outputs": [],
   "source": [
    "discriminator = DiscriminatorNet()\n",
    "generator = GeneratorNet()\n",
    "if torch.cuda.is_available():\n",
    "    discriminator.cuda()\n",
    "    generator.cuda()"
   ]
  },
  {
   "cell_type": "markdown",
   "metadata": {},
   "source": [
    "## Optimization"
   ]
  },
  {
   "cell_type": "code",
   "execution_count": 9,
   "metadata": {},
   "outputs": [],
   "source": [
    "# Optimizers\n",
    "d_optimizer = optim.Adam(discriminator.parameters(), lr=0.0002)\n",
    "g_optimizer = optim.Adam(generator.parameters(), lr=0.0002)\n",
    "\n",
    "# Loss function\n",
    "loss = nn.BCELoss()\n",
    "\n",
    "# Number of steps to apply to the discriminator\n",
    "d_steps = 1  # In Goodfellow et. al 2014 this variable is assigned to 1\n",
    "# Number of epochs\n",
    "num_epochs = 200"
   ]
  },
  {
   "cell_type": "markdown",
   "metadata": {},
   "source": [
    "## Training"
   ]
  },
  {
   "cell_type": "code",
   "execution_count": 10,
   "metadata": {},
   "outputs": [],
   "source": [
    "def real_data_target(size):\n",
    "    '''\n",
    "    Tensor containing ones, with shape = size\n",
    "    '''\n",
    "    data = Variable(torch.ones(size, 1))\n",
    "    if torch.cuda.is_available(): return data.cuda()\n",
    "    return data\n",
    "\n",
    "def fake_data_target(size):\n",
    "    '''\n",
    "    Tensor containing zeros, with shape = size\n",
    "    '''\n",
    "    data = Variable(torch.zeros(size, 1))\n",
    "    if torch.cuda.is_available(): return data.cuda()\n",
    "    return data"
   ]
  },
  {
   "cell_type": "code",
   "execution_count": 11,
   "metadata": {},
   "outputs": [],
   "source": [
    "def train_discriminator(optimizer, real_data, fake_data):\n",
    "    # Reset gradients\n",
    "    optimizer.zero_grad()\n",
    "    \n",
    "    # 1.1 Train on Real Data\n",
    "    prediction_real = discriminator(real_data)\n",
    "    # Calculate error and backpropagate\n",
    "    error_real = loss(prediction_real, real_data_target(real_data.size(0)))\n",
    "    error_real.backward()\n",
    "\n",
    "    # 1.2 Train on Fake Data\n",
    "    prediction_fake = discriminator(fake_data)\n",
    "    # Calculate error and backpropagate\n",
    "    error_fake = loss(prediction_fake, fake_data_target(real_data.size(0)))\n",
    "    error_fake.backward()\n",
    "    \n",
    "    # 1.3 Update weights with gradients\n",
    "    optimizer.step()\n",
    "    \n",
    "    # Return error\n",
    "    return error_real + error_fake, prediction_real, prediction_fake\n",
    "\n",
    "def train_generator(optimizer, fake_data):\n",
    "    # 2. Train Generator\n",
    "    # Reset gradients\n",
    "    optimizer.zero_grad()\n",
    "    # Sample noise and generate fake data\n",
    "    prediction = discriminator(fake_data)\n",
    "    # Calculate error and backpropagate\n",
    "    error = loss(prediction, real_data_target(prediction.size(0)))\n",
    "    error.backward()\n",
    "    # Update weights with gradients\n",
    "    optimizer.step()\n",
    "    # Return error\n",
    "    return error"
   ]
  },
  {
   "cell_type": "markdown",
   "metadata": {},
   "source": [
    "### Generate Samples for Testing"
   ]
  },
  {
   "cell_type": "code",
   "execution_count": null,
   "metadata": {},
   "outputs": [],
   "source": [
    "num_test_samples = 16\n",
    "test_noise = noise(num_test_samples)"
   ]
  },
  {
   "cell_type": "markdown",
   "metadata": {},
   "source": [
    "### Start training"
   ]
  },
  {
   "cell_type": "code",
   "execution_count": null,
   "metadata": {},
   "outputs": [
    {
     "data": {
      "image/png": "[encoded data removed]",
      "text/plain": [
       "<Figure size 1152x1152 with 1 Axes>"
      ]
     },
     "metadata": {},
     "output_type": "display_data"
    },
    {
     "name": "stdout",
     "output_type": "stream",
     "text": [
      "Epoch: [142/200], Batch Num: [200/600]\n",
      "Discriminator Loss: 1.3168, Generator Loss: 1.2343\n",
      "D(x): 0.5309, D(G(z)): 0.3659\n"
     ]
    }
   ],
   "source": [
    "transform = transforms.Compose([transforms.ToTensor(), transforms.Normalize((0.5,), (0.5,))])\n",
    "\n",
    "logger = Logger(model_name='VGAN', data_name='MNIST')\n",
    "\n",
    "for epoch in range(num_epochs):\n",
    "    for n_batch, (real_batch,_) in enumerate(data_loader):\n",
    "\n",
    "        # 1. Train Discriminator\n",
    "        real_data = Variable(images_to_vectors(real_batch))\n",
    "        if torch.cuda.is_available(): real_data = real_data.cuda()\n",
    "        # Generate fake data\n",
    "        fake_data = generator(noise(real_data.size(0))).detach()\n",
    "        # Train D\n",
    "        d_error, d_pred_real, d_pred_fake = train_discriminator(d_optimizer,\n",
    "                                                                real_data, fake_data)\n",
    "\n",
    "        # 2. Train Generator\n",
    "        # Generate fake data\n",
    "        fake_data = generator(noise(real_batch.size(0)))\n",
    "        # Train G\n",
    "        g_error = train_generator(g_optimizer, fake_data)\n",
    "        # Log error\n",
    "        logger.log(d_error, g_error, epoch, n_batch, num_batches)\n",
    "\n",
    "        # Display Progress\n",
    "        if (n_batch) % 100 == 0:\n",
    "            display.clear_output(True)\n",
    "            # Display Images\n",
    "            test_images = vectors_to_images(generator(test_noise)).data.cpu()\n",
    "            logger.log_images(test_images, num_test_samples, epoch, n_batch, num_batches);\n",
    "            # Display status Logs\n",
    "            logger.display_status(\n",
    "                epoch, num_epochs, n_batch, num_batches,\n",
    "                d_error, g_error, d_pred_real, d_pred_fake\n",
    "            )\n",
    "        # Model Checkpoints\n",
    "        logger.save_models(generator, discriminator, epoch)"
   ]
  },
  {
   "cell_type": "code",
   "execution_count": null,
   "metadata": {},
   "outputs": [],
   "source": []
  }
 ],
 "metadata": {
  "kernelspec": {
   "display_name": "Python 3",
   "language": "python",
   "name": "python3"
  },
  "language_info": {
   "codemirror_mode": {
    "name": "ipython",
    "version": 3
   },
   "file_extension": ".py",
   "mimetype": "text/x-python",
   "name": "python",
   "nbconvert_exporter": "python",
   "pygments_lexer": "ipython3",
   "version": "3.6.8"
  }
 },
 "nbformat": 4,
 "nbformat_minor": 2
}
